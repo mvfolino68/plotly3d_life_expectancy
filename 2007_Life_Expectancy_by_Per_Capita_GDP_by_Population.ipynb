{
  "nbformat": 4,
  "nbformat_minor": 0,
  "metadata": {
    "colab": {
      "name": "2007 Life Expectancy by Per Capita GDP by Population.ipynb",
      "version": "0.3.2",
      "provenance": [],
      "collapsed_sections": [],
      "include_colab_link": true
    },
    "kernelspec": {
      "name": "python3",
      "display_name": "Python 3"
    }
  },
  "cells": [
    {
      "cell_type": "markdown",
      "metadata": {
        "id": "view-in-github",
        "colab_type": "text"
      },
      "source": [
        "<a href=\"https://colab.research.google.com/github/mvfolino68/plotly3d_life_expectancy/blob/master/2007_Life_Expectancy_by_Per_Capita_GDP_by_Population.ipynb\" target=\"_parent\"><img src=\"https://colab.research.google.com/assets/colab-badge.svg\" alt=\"Open In Colab\"/></a>"
      ]
    },
    {
      "metadata": {
        "id": "QG98_djoXmV0",
        "colab_type": "code",
        "colab": {
          "base_uri": "https://localhost:8080/",
          "height": 546
        },
        "cellView": "form",
        "outputId": "727b14de-3657-40f2-9fad-a62d8d192275"
      },
      "cell_type": "code",
      "source": [
        "#@title\n",
        "import plotly \n",
        "plotly.tools.set_credentials_file(username='mvfolino68', api_key='YaCrjGbAiQRtWpUtNo7f')\n",
        "import plotly.plotly as py\n",
        "import plotly.figure_factory as ff\n",
        "import plotly.graph_objs as go\n",
        "import pandas as pd\n",
        "\n",
        "df = pd.read_csv(\"https://raw.githubusercontent.com/plotly/datasets/master/school_earnings.csv\")\n",
        "\n",
        "table = ff.create_table(df)\n",
        "py.iplot(table, filename='jupyter-table1')\n",
        "\n",
        "df = pd.read_csv(\n",
        "    'https://gist.githubusercontent.com/chriddyp/' +\n",
        "    '5d1ea79569ed194d432e56108a04d188/raw/' +\n",
        "    'a9f9e8076b837d541398e999dcbac2b2826a81f8/'+\n",
        "    'gdp-life-exp-2007.csv')\n",
        "\n",
        "filtered_df=df\n",
        "\n",
        "traces = []\n",
        "for i in filtered_df.continent.unique():\n",
        "    df_by_continent = filtered_df[filtered_df['continent'] == i]\n",
        "    traces.append(go.Scatter3d(\n",
        "        x=df_by_continent['gdp per capita'],\n",
        "        y=df_by_continent['life expectancy'],\n",
        "        z=df_by_continent['population'],\n",
        "        text=df_by_continent['country'],\n",
        "        mode='markers',\n",
        "        opacity=0.9,\n",
        "        marker={\n",
        "            'size': 10,\n",
        "            'line': {'width': 0.5, 'color': 'white'}\n",
        "        },\n",
        "        name=i\n",
        "    ))\n",
        "data = traces\n",
        "layout = go.Layout(\n",
        "                scene={  \n",
        "                        'xaxis':{'type': 'linear', 'title': 'X: GDP Per Capita'},\n",
        "                           'yaxis':{'title': 'Y: Life Expectancy', 'range': [20, 90]},\n",
        "                           'zaxis':{'type': 'log', 'title': 'Z: Poplulation'}\n",
        "                           },\n",
        "            margin={'l': 40, 'b': 40, 't': 10, 'r': 10},\n",
        "            legend={'x': 1, 'y': 1},\n",
        "            hovermode='closest',\n",
        "            title=go.layout.Title(\n",
        "            text='2007 Life Expectancy by Per Capita GDP by Population',\n",
        "            xref='paper',\n",
        "            x=.5, y=1)\n",
        "        )\n",
        "fig = go.Figure(data=data, layout=layout)\n",
        "py.iplot(fig, filename='2007 Life Expectancy by Per Capita GDP by Population')"
      ],
      "execution_count": 9,
      "outputs": [
        {
          "output_type": "execute_result",
          "data": {
            "text/html": [
              "<iframe id=\"igraph\" scrolling=\"no\" style=\"border:none;\" seamless=\"seamless\" src=\"https://plot.ly/~mvfolino68/8.embed\" height=\"525px\" width=\"100%\"></iframe>"
            ],
            "text/plain": [
              "<plotly.tools.PlotlyDisplay object>"
            ]
          },
          "metadata": {
            "tags": []
          },
          "execution_count": 9
        }
      ]
    }
  ]
}